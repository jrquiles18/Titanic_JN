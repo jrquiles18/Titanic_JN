{
 "cells": [
  {
   "cell_type": "markdown",
   "id": "04e3e395",
   "metadata": {},
   "source": [
    "## Step 1: Importing basic libraries"
   ]
  },
  {
   "cell_type": "code",
   "execution_count": null,
   "id": "28efe636",
   "metadata": {},
   "outputs": [],
   "source": [
    "import numpy as np\n",
    "import pandas as pd\n",
    "import seaborn as sns\n",
    "import matplotlib.pyplot as plt\n",
    "%matplotlib inline\n"
   ]
  },
  {
   "cell_type": "markdown",
   "id": "74758d94",
   "metadata": {},
   "source": [
    "## Step 2: Reading the data"
   ]
  },
  {
   "cell_type": "code",
   "execution_count": null,
   "id": "c029471d",
   "metadata": {},
   "outputs": [],
   "source": [
    "#df = pd.read_csv('http://bit.ly/kaggletrain')\n",
    "training = pd.read_csv(r'C:\\Users\\rquiles\\OneDrive - Healthesystems, LLC\\Desktop\\train.csv')\n",
    "training.head()"
   ]
  },
  {
   "cell_type": "code",
   "execution_count": null,
   "id": "65345f66",
   "metadata": {},
   "outputs": [],
   "source": [
    "test = pd.read_csv(r'C:\\Users\\rquiles\\OneDrive - Healthesystems, LLC\\Desktop\\test.csv')\n",
    "test.head()"
   ]
  },
  {
   "cell_type": "code",
   "execution_count": null,
   "id": "24fef8c5",
   "metadata": {},
   "outputs": [],
   "source": [
    "training['train_test'] = 1\n",
    "test['train_test'] = 0\n",
    "test['Survived'] = np.NaN\n",
    "all_data = pd.concat([training,test])"
   ]
  },
  {
   "cell_type": "code",
   "execution_count": null,
   "id": "65990e8f",
   "metadata": {},
   "outputs": [],
   "source": [
    "training"
   ]
  },
  {
   "cell_type": "code",
   "execution_count": null,
   "id": "b1608ede",
   "metadata": {},
   "outputs": [],
   "source": [
    "all_data.head()"
   ]
  },
  {
   "cell_type": "markdown",
   "id": "e0149eeb",
   "metadata": {},
   "source": [
    "## Step 3: Data Exploration"
   ]
  },
  {
   "cell_type": "code",
   "execution_count": null,
   "id": "74a0045a",
   "metadata": {},
   "outputs": [],
   "source": [
    "training.info()"
   ]
  },
  {
   "cell_type": "code",
   "execution_count": null,
   "id": "62368a50",
   "metadata": {},
   "outputs": [],
   "source": [
    "training.isna().sum()"
   ]
  },
  {
   "cell_type": "code",
   "execution_count": null,
   "id": "cf381a1f",
   "metadata": {},
   "outputs": [],
   "source": [
    "training.describe()"
   ]
  },
  {
   "cell_type": "code",
   "execution_count": null,
   "id": "2f9bbd3c",
   "metadata": {},
   "outputs": [],
   "source": [
    "# seperate the data into numeric and categorical\n",
    "df_num = training[['Age','SibSp','Parch','Fare']]\n",
    "df_cat = training[['Survived','Pclass','Sex','Ticket','Cabin','Embarked']]"
   ]
  },
  {
   "cell_type": "markdown",
   "id": "38ef6c2e",
   "metadata": {},
   "source": [
    "#### Visualization Of The Data"
   ]
  },
  {
   "cell_type": "code",
   "execution_count": null,
   "id": "75ba772a",
   "metadata": {},
   "outputs": [],
   "source": [
    "for i in df_num.columns:\n",
    "    plt.hist(df_num[i], edgecolor= 'black')\n",
    "    plt.title(i)\n",
    "    plt.show()"
   ]
  },
  {
   "cell_type": "code",
   "execution_count": null,
   "id": "8dbfc10b",
   "metadata": {},
   "outputs": [],
   "source": [
    "pd.pivot_table(training, index='Survived', values = ['Age', 'SibSp', 'Parch', 'Fare'])"
   ]
  },
  {
   "cell_type": "code",
   "execution_count": null,
   "id": "2d39b39f",
   "metadata": {},
   "outputs": [],
   "source": [
    "#Take aways from charts\n",
    "#1.  Avg age of survivors is 28\n",
    "#2.  People who paid higher fares more likely survived\n",
    "#3.  If you have parents, you had a higher chance of survival\n",
    "#4.  If you had siblins, you had less of a chance of survival"
   ]
  },
  {
   "cell_type": "code",
   "execution_count": null,
   "id": "bacb9d6a",
   "metadata": {},
   "outputs": [],
   "source": [
    "for i in df_cat.columns:\n",
    "    sns.barplot(df_cat[i].value_counts().index,df_cat[i].value_counts()).set_title(i)\n",
    "    plt.show()"
   ]
  },
  {
   "cell_type": "code",
   "execution_count": null,
   "id": "f37be4af",
   "metadata": {},
   "outputs": [],
   "source": [
    "print(pd.pivot_table(training, index = 'Survived', columns = 'Pclass',\n",
    "                     values = 'Ticket' ,aggfunc ='count'))\n",
    "print()\n",
    "print(pd.pivot_table(training, index = 'Survived', columns = 'Sex', \n",
    "                     values = 'Ticket' ,aggfunc ='count'))\n",
    "print()\n",
    "print(pd.pivot_table(training, index = 'Survived', columns = 'Embarked', \n",
    "                     values = 'Ticket' ,aggfunc ='count'))"
   ]
  },
  {
   "cell_type": "code",
   "execution_count": null,
   "id": "2b575ddc",
   "metadata": {},
   "outputs": [],
   "source": [
    "#1.  Survived: Most of the people died in the shipwreck,  only around 300 people survived.\n",
    "#2.  Pclass: The majority of the people traveling, had tickets to the 3rd class.\n",
    "#3.  Sex: There were more males than females aboard the ship, roughly double the amount.\n",
    "#4.  Embarked: Most of the passengers boarded the ship from Southampton."
   ]
  },
  {
   "cell_type": "markdown",
   "id": "7d2320d8",
   "metadata": {},
   "source": [
    "## Step 4: Feature Engineering\n",
    "#### Using various techniques used to prepare, extract, and transform features from raw data to provide the best inputs to a ML \n",
    "#### model."
   ]
  },
  {
   "cell_type": "code",
   "execution_count": null,
   "id": "1b8f63f0",
   "metadata": {},
   "outputs": [],
   "source": [
    "df_cat.Cabin\n",
    "training['cabin_multiple'] = training.Cabin.apply(lambda x: 0 if pd.isna(x) \n",
    "                                                    else len(x.split(' ')))\n",
    "training['cabin_multiple'].value_counts()"
   ]
  },
  {
   "cell_type": "code",
   "execution_count": null,
   "id": "eb1345c2",
   "metadata": {},
   "outputs": [],
   "source": [
    "#pd.set_option('display.max_rows', None)\n",
    "#pd.set_option('display.max_columns', None)\n",
    "\n",
    "training"
   ]
  },
  {
   "cell_type": "code",
   "execution_count": null,
   "id": "0eff9590",
   "metadata": {},
   "outputs": [],
   "source": [
    "pd.pivot_table(training, index = 'Survived', columns = 'cabin_multiple',\n",
    "               values = 'Ticket' ,aggfunc ='count')"
   ]
  },
  {
   "cell_type": "markdown",
   "id": "d039b573",
   "metadata": {},
   "source": [
    "## Step 5: Data preprocessing for model\n",
    "#### The process of taking data and transforming it into a format that can be understood and analyzed by computers and ML models"
   ]
  },
  {
   "cell_type": "code",
   "execution_count": null,
   "id": "77f59491",
   "metadata": {},
   "outputs": [],
   "source": [
    "#df = df.loc[df.Embarked.notna(), ['Survived', 'Pclass', 'Sex', 'Embarked']]\n",
    "#df.head()\n",
    "\n",
    "training = training.loc[(training['Embarked'].notna()) & (training['Age'].notna()) , :]\n",
    "training.head()"
   ]
  },
  {
   "cell_type": "code",
   "execution_count": null,
   "id": "1c759e38",
   "metadata": {},
   "outputs": [],
   "source": [
    "X = training.drop(['Survived', 'Name', 'Ticket', 'Cabin'], axis=1)\n",
    "y = training['Survived']"
   ]
  },
  {
   "cell_type": "code",
   "execution_count": null,
   "id": "f67ce85a",
   "metadata": {},
   "outputs": [],
   "source": [
    "X.head()\n",
    "print(X.shape)"
   ]
  },
  {
   "cell_type": "code",
   "execution_count": null,
   "id": "fd74c79f",
   "metadata": {},
   "outputs": [],
   "source": [
    "y.head()\n",
    "print(y.shape)"
   ]
  },
  {
   "cell_type": "code",
   "execution_count": null,
   "id": "90b8e330",
   "metadata": {},
   "outputs": [],
   "source": [
    "from sklearn.compose import make_column_transformer\n",
    "from sklearn.preprocessing import OneHotEncoder\n",
    "from sklearn.pipeline import make_pipeline \n",
    "\n",
    "from sklearn.model_selection import cross_val_score\n",
    "from sklearn.linear_model import LogisticRegression\n",
    "from sklearn.neighbors import KNeighborsClassifier\n",
    "from sklearn.svm import SVC\n",
    "\n",
    "column_trans = make_column_transformer((OneHotEncoder(), ['Sex', 'Embarked']), remainder='passthrough')\n",
    "\n",
    "lr = LogisticRegression(max_iter = 3000)\n",
    "knn = KNeighborsClassifier(n_neighbors = 7)\n",
    "svc = SVC(probability = True)"
   ]
  },
  {
   "cell_type": "code",
   "execution_count": null,
   "id": "3a53eade",
   "metadata": {},
   "outputs": [],
   "source": [
    "column_trans.fit_transform(X)"
   ]
  },
  {
   "cell_type": "markdown",
   "id": "d9fe662a",
   "metadata": {},
   "source": [
    "## Step 6: Building  Model"
   ]
  },
  {
   "cell_type": "markdown",
   "id": "ffa99aa3",
   "metadata": {},
   "source": [
    "### Logistic Regression"
   ]
  },
  {
   "cell_type": "code",
   "execution_count": null,
   "id": "2f4236f0",
   "metadata": {},
   "outputs": [],
   "source": [
    "pipe = make_pipeline(column_trans, lr)\n",
    "round(cross_val_score(pipe, X, y, cv =5 , scoring='roc_auc').mean(),2)"
   ]
  },
  {
   "cell_type": "code",
   "execution_count": null,
   "id": "19eb57f7",
   "metadata": {},
   "outputs": [],
   "source": [
    "pipe.fit(X,y)"
   ]
  },
  {
   "cell_type": "code",
   "execution_count": null,
   "id": "384d7245",
   "metadata": {},
   "outputs": [],
   "source": [
    "y_pred = pipe.predict(X)\n",
    "y_pred_probs = pipe.predict_proba(X)[:,1]\n",
    "y_pred_probs"
   ]
  },
  {
   "cell_type": "code",
   "execution_count": null,
   "id": "942a0f20",
   "metadata": {},
   "outputs": [],
   "source": [
    "from sklearn.metrics import roc_curve, roc_auc_score\n",
    "\n",
    "x1 = [0, 0.2, 0.4, 0.6, 0.8, 1.0]\n",
    "y1 = [0, 0.2, 0.4, 0.6, 0.8, 1.0]\n",
    "\n",
    "tpr, fpr, _ = roc_curve(y, y_pred_probs)\n",
    "plt.plot(tpr,fpr)\n",
    "plt.plot(x1,y1, color='red', marker='_')\n",
    "plt.ylabel('True Positive Rate (Sensitivity)')\n",
    "plt.xlabel('False Positive Rate (1-Specificity)')"
   ]
  },
  {
   "cell_type": "markdown",
   "id": "f4f6184c",
   "metadata": {},
   "source": [
    "### K Nearest Neighbor"
   ]
  },
  {
   "cell_type": "code",
   "execution_count": null,
   "id": "b164ad2f",
   "metadata": {},
   "outputs": [],
   "source": [
    "k_range = range(1,25)\n",
    "scores = []\n",
    "for k in k_range:\n",
    "    pipe = make_pipeline(column_trans, knn)\n",
    "    scores.append(cross_val_score(pipe, X, y, cv = k + 1 , scoring='accuracy').mean())\n",
    "\n"
   ]
  },
  {
   "cell_type": "code",
   "execution_count": null,
   "id": "b6130c6a",
   "metadata": {},
   "outputs": [],
   "source": [
    "plt.plot(k_range, scores)\n",
    "plt.xlabel('Value of K for KNN')\n",
    "plt.ylabel('Testing Accuracy')"
   ]
  },
  {
   "cell_type": "code",
   "execution_count": null,
   "id": "dcc067a4",
   "metadata": {},
   "outputs": [],
   "source": [
    "pipe = make_pipeline(column_trans, knn)\n",
    "cross_val_score(pipe, X, y, cv = 3, scoring='accuracy').mean() "
   ]
  },
  {
   "cell_type": "markdown",
   "id": "c3db571b",
   "metadata": {},
   "source": [
    "### Support Vector Classifier"
   ]
  },
  {
   "cell_type": "code",
   "execution_count": null,
   "id": "dcf76c47",
   "metadata": {},
   "outputs": [],
   "source": [
    "pipe = make_pipeline(column_trans, svc)\n",
    "cross_val_score(pipe, X, y, cv =5, scoring='roc_auc' ).mean() "
   ]
  },
  {
   "cell_type": "markdown",
   "id": "7be0112c",
   "metadata": {},
   "source": [
    "## Step 7: Run Model To Make Predictions"
   ]
  },
  {
   "cell_type": "code",
   "execution_count": null,
   "id": "e60fb12b",
   "metadata": {},
   "outputs": [],
   "source": [
    "test.head()"
   ]
  },
  {
   "cell_type": "code",
   "execution_count": null,
   "id": "c75e2d35",
   "metadata": {},
   "outputs": [],
   "source": [
    "test['cabin_multiple'] = test.Cabin.apply(lambda x: 0 if pd.isna(x) \n",
    "                                                    else len(x.split(' ')))"
   ]
  },
  {
   "cell_type": "code",
   "execution_count": null,
   "id": "a6f3c96b",
   "metadata": {},
   "outputs": [],
   "source": [
    "test = test.drop(['Survived', 'Name', 'Ticket', 'Cabin'], axis=1)"
   ]
  },
  {
   "cell_type": "code",
   "execution_count": null,
   "id": "1907abad",
   "metadata": {},
   "outputs": [],
   "source": [
    "test.head()"
   ]
  },
  {
   "cell_type": "code",
   "execution_count": null,
   "id": "e11610dd",
   "metadata": {},
   "outputs": [],
   "source": [
    "pipe = make_pipeline(column_trans, lr)\n"
   ]
  },
  {
   "cell_type": "code",
   "execution_count": null,
   "id": "45a5396b",
   "metadata": {},
   "outputs": [],
   "source": [
    "print(X.shape)\n",
    "print(test.shape)"
   ]
  },
  {
   "cell_type": "code",
   "execution_count": null,
   "id": "f22ed11c",
   "metadata": {},
   "outputs": [],
   "source": [
    "test.isna().sum()"
   ]
  },
  {
   "cell_type": "code",
   "execution_count": null,
   "id": "7aa31b70",
   "metadata": {},
   "outputs": [],
   "source": [
    "test = test.loc[(test['Age'].notna()) &(test['Fare'].notna()) , :]\n"
   ]
  },
  {
   "cell_type": "code",
   "execution_count": null,
   "id": "41d75e67",
   "metadata": {},
   "outputs": [],
   "source": [
    "pipe.fit(X,y)"
   ]
  },
  {
   "cell_type": "code",
   "execution_count": null,
   "id": "840a0dd0",
   "metadata": {},
   "outputs": [],
   "source": [
    "y_pred = pipe.predict(test)\n",
    "y_pred"
   ]
  },
  {
   "cell_type": "code",
   "execution_count": null,
   "id": "904650a8",
   "metadata": {},
   "outputs": [],
   "source": []
  }
 ],
 "metadata": {
  "kernelspec": {
   "display_name": "Python 3 (ipykernel)",
   "language": "python",
   "name": "python3"
  },
  "language_info": {
   "codemirror_mode": {
    "name": "ipython",
    "version": 3
   },
   "file_extension": ".py",
   "mimetype": "text/x-python",
   "name": "python",
   "nbconvert_exporter": "python",
   "pygments_lexer": "ipython3",
   "version": "3.9.7"
  }
 },
 "nbformat": 4,
 "nbformat_minor": 5
}
